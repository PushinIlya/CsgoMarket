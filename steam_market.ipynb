{
 "cells": [
  {
   "cell_type": "markdown",
   "id": "15e5b87c",
   "metadata": {},
   "source": [
    "## Формирование csv-файла по данным из excel-файла с предметами на торговой площадке Steam"
   ]
  },
  {
   "cell_type": "code",
   "execution_count": 29,
   "id": "c0a4b8f2",
   "metadata": {},
   "outputs": [],
   "source": [
    "# импорт библиотек\n",
    "import json\n",
    "import time\n",
    "import os\n",
    "import re\n",
    "import bs4\n",
    "import requests\n",
    "import pandas as pd\n",
    "from openpyxl import Workbook, load_workbook\n",
    "from bs4 import BeautifulSoup\n",
    "from datetime import datetime"
   ]
  },
  {
   "cell_type": "code",
   "execution_count": 30,
   "id": "5936f608",
   "metadata": {},
   "outputs": [],
   "source": [
    "# загрузка данных из excel-файла\n",
    "items = pd.read_excel('items.xlsx')"
   ]
  },
  {
   "cell_type": "code",
   "execution_count": 31,
   "id": "1640bb57",
   "metadata": {},
   "outputs": [],
   "source": [
    "# steam id игры\n",
    "game_id = 730 \n",
    "\n",
    "# cookie steamLoginSecure только для авторизированных пользователей на сайте Steam\n",
    "steam_login_secure = '76561198202257857%7C%7CeyAidHlwIjogIkpXVCIsICJhbGciOiAiRWREU0EiIH0.eyAiaXNzIjogInI6MEQwN18yMkMzNThCNF8xMzQ0RiIsICJzdWIiOiAiNzY1NjExOTgyMDIyNTc4NTciLCAiYXVkIjogWyAid2ViIiBdLCAiZXhwIjogMTY4ODQ1MDQwMSwgIm5iZiI6IDE2Nzk3MjM0MjUsICJpYXQiOiAxNjg4MzYzNDI1LCAianRpIjogIjBEMDZfMjJDOTE3Q0ZfM0U3RjMiLCAib2F0IjogMTY4Nzg2NDExMSwgInJ0X2V4cCI6IDE2OTA0MjIyNDQsICJwZXIiOiAwLCAiaXBfc3ViamVjdCI6ICI4Ny4yNDkuMjMzLjIzOCIsICJpcF9jb25maXJtZXIiOiAiODcuMjQ5LjIzMy4yMzgiIH0.PughFqj5JP11pABQV0bzcJ44Eh0ueyFvA9F3yN_T58iw0XZoJzzFJNls9nXasn6_lsecc9oz-sT1yCg8CLZQCA'\n",
    "session_id = 'd4f95ff519cd329427d27632'\n",
    "browser_id = '2889666485027878320'\n",
    "\n",
    "# url, к которому будем обращаться\n",
    "items['url'] = f'https://steamcommunity.com/market/listings/{game_id}/' + items['name']"
   ]
  },
  {
   "cell_type": "code",
   "execution_count": 32,
   "id": "77089a5b",
   "metadata": {},
   "outputs": [],
   "source": [
    "# создадим функцию для поиска определённого класса в HTML-коде\n",
    "def parse_html(html, class_):\n",
    "    # используем библиотеку BeautifulSoup для анализа HTML-кода\n",
    "    soup = bs4.BeautifulSoup(html, 'html.parser')\n",
    "\n",
    "    # используем soup.find для поиска классов по тегу 'class_'\n",
    "    text = soup.find(class_=class_)\n",
    "\n",
    "    return text"
   ]
  },
  {
   "cell_type": "code",
   "execution_count": 33,
   "id": "ff6ddc0a",
   "metadata": {},
   "outputs": [],
   "source": [
    "# создадим словарь с заголовками для GET-запроса\n",
    "headers = {'User-Agent': 'Mozilla/5.0 (Windows NT 10.0; Win64; x64) AppleWebKit/537.36 (KHTML, like Gecko) Chrome/113.0.0.0 Safari/537.36 OPR/99.0.0.0',\n",
    "           'Accept-Language': 'ru-RU',\n",
    "           'Content-Type': 'application/json'}\n",
    "cookies = {'sessionid': session_id,\n",
    "           'steamLoginSecure': steam_login_secure,\n",
    "           'browserid': browser_id}"
   ]
  },
  {
   "cell_type": "code",
   "execution_count": 35,
   "id": "3a0c1232",
   "metadata": {},
   "outputs": [],
   "source": [
    "# выполним запрос к торговой площадке Steam\n",
    "items['response_text'] = items.apply(lambda row: (time.sleep(1),\n",
    "                                                  requests.get(row['url'],\n",
    "                                                               headers=headers,\n",
    "                                                               cookies=cookies).text)[1],\n",
    "                                     axis=1)"
   ]
  },
  {
   "cell_type": "code",
   "execution_count": 36,
   "id": "8764a5e7",
   "metadata": {},
   "outputs": [],
   "source": [
    "# найдём в HTML коде строки с продажами для каждого предмета\n",
    "items['sells_text'] = items.apply(lambda row: re.search(r'var line1=(.+);',\n",
    "                                                        row['response_text']),\n",
    "                                  axis=1)"
   ]
  },
  {
   "cell_type": "code",
   "execution_count": 37,
   "id": "fb3607a8",
   "metadata": {},
   "outputs": [],
   "source": [
    "# найдём в HTML коде строки с url изображения для каждого предмета\n",
    "items['image_text'] = items.apply(lambda row: re.search(r'src=\"(.*?)\"',\n",
    "                                                        str(parse_html(row['response_text'],\n",
    "                                                                       'market_listing_largeimage'))),\n",
    "                                  axis=1)"
   ]
  },
  {
   "cell_type": "code",
   "execution_count": 38,
   "id": "c65b1e9d",
   "metadata": {},
   "outputs": [],
   "source": [
    "# преобразуем полученный HTML-код в строку\n",
    "items['sells'] = items.apply(lambda row: row['sells_text'].group(1), axis=1)\n",
    "items['image_url'] = items.apply(lambda row: row['image_text'].group(1), axis=1)"
   ]
  },
  {
   "cell_type": "code",
   "execution_count": 39,
   "id": "4e4640c9",
   "metadata": {},
   "outputs": [],
   "source": [
    "items['sells'] = items.apply(lambda row: eval(row['sells']), axis=1) # преобразование строки в список списков\n",
    "items = items.explode('sells') # разделение списков на отдельные строки"
   ]
  },
  {
   "cell_type": "code",
   "execution_count": 40,
   "id": "526520d7",
   "metadata": {},
   "outputs": [],
   "source": [
    "# создадим новые столбцы и удалим ненужные\n",
    "items[['date_sold_item', 'median_price_sold_item', 'count_sold_item']] = pd.DataFrame(items['sells'].tolist(),\n",
    "                                                                                      index=items.index)\n",
    "\n",
    "items.drop(['url',\n",
    "            'response_text',\n",
    "            'sells_text',\n",
    "            'sells',\n",
    "            'image_text'],\n",
    "           axis=1,\n",
    "           inplace=True)"
   ]
  },
  {
   "cell_type": "code",
   "execution_count": 41,
   "id": "bfd3a1a7",
   "metadata": {},
   "outputs": [],
   "source": [
    "# преобразуем типы данных\n",
    "items = items.astype({'count_sold_item': 'int64'})"
   ]
  },
  {
   "cell_type": "code",
   "execution_count": 42,
   "id": "37715f23",
   "metadata": {},
   "outputs": [],
   "source": [
    "# создадим словарь с месяцами\n",
    "months = {'Jan': '01',\n",
    "          'Feb': '02', \n",
    "          'Mar': '03',\n",
    "          'Apr': '04', \n",
    "          'May': '05', \n",
    "          'Jun': '06',\n",
    "          'Jul': '07',\n",
    "          'Aug': '08',\n",
    "          'Sep': '09',\n",
    "          'Oct': '10', \n",
    "          'Nov': '11', \n",
    "          'Dec': '12'}"
   ]
  },
  {
   "cell_type": "code",
   "execution_count": 43,
   "id": "c2864bd3",
   "metadata": {},
   "outputs": [],
   "source": [
    "# заменим текстовое обозначение месяцев на числовое\n",
    "for key in months.keys():\n",
    "    items['date_sold_item'] = items['date_sold_item'].str.replace(key, months[key])"
   ]
  },
  {
   "cell_type": "code",
   "execution_count": 44,
   "id": "652fa9e8",
   "metadata": {},
   "outputs": [],
   "source": [
    "# удалим значения времени в конце строки\n",
    "items['date_sold_item'] = items['date_sold_item'].apply(lambda row: row[:-7])\n",
    "# приведём строку с датой к формату 'datetime'\n",
    "items['date_sold_item'] = items['date_sold_item'].apply(lambda row: pd.to_datetime(row, format='%m %d %Y'))"
   ]
  },
  {
   "cell_type": "code",
   "execution_count": 45,
   "id": "3766d311",
   "metadata": {},
   "outputs": [],
   "source": [
    "# сбросим индекс\n",
    "items = items.reset_index(drop=True)"
   ]
  },
  {
   "cell_type": "code",
   "execution_count": 46,
   "id": "7e449865",
   "metadata": {
    "scrolled": true
   },
   "outputs": [],
   "source": [
    "# сгруппируем датафрейм\n",
    "items = items.groupby(['name',\n",
    "                       'category',\n",
    "                       'image_url',\n",
    "                       'date_sold_item']).agg({'median_price_sold_item': 'median',\n",
    "                                               'count_sold_item': 'sum'}).reset_index()"
   ]
  },
  {
   "cell_type": "code",
   "execution_count": null,
   "id": "18a6dfa4",
   "metadata": {},
   "outputs": [],
   "source": [
    "# выгрузим данные в формате csv\n",
    "items.to_csv('items.csv', header=True, index=False)"
   ]
  }
 ],
 "metadata": {
  "kernelspec": {
   "display_name": "Python 3 (ipykernel)",
   "language": "python",
   "name": "python3"
  },
  "language_info": {
   "codemirror_mode": {
    "name": "ipython",
    "version": 3
   },
   "file_extension": ".py",
   "mimetype": "text/x-python",
   "name": "python",
   "nbconvert_exporter": "python",
   "pygments_lexer": "ipython3",
   "version": "3.9.13"
  }
 },
 "nbformat": 4,
 "nbformat_minor": 5
}
